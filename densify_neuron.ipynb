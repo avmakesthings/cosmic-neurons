{
 "cells": [
  {
   "cell_type": "code",
   "execution_count": 1,
   "metadata": {},
   "outputs": [],
   "source": [
    "import pylab as M, numpy as N\n",
    "import ipyvolume as ipv"
   ]
  },
  {
   "cell_type": "code",
   "execution_count": 2,
   "metadata": {},
   "outputs": [],
   "source": [
    "def write_fvolume(filename,d):\n",
    "    F = open(filename,'w')\n",
    "\n",
    "    head=N.zeros(64,dtype=N.int32)\n",
    "    head[3:6]=d.shape\n",
    "    head.tofile(F)\n",
    "    d.astype(N.float32).flatten().tofile(F)\n",
    "\n",
    "    F.close()"
   ]
  },
  {
   "cell_type": "code",
   "execution_count": 3,
   "metadata": {
    "scrolled": true
   },
   "outputs": [
    {
     "name": "stdout",
     "output_type": "stream",
     "text": [
      "130.04\n",
      "130.04\n"
     ]
    },
    {
     "data": {
      "application/vnd.jupyter.widget-view+json": {
       "model_id": "ff02d3d210564edf929a4064778d6462",
       "version_major": 2,
       "version_minor": 0
      },
      "text/plain": [
       "VBox(children=(Figure(camera=PerspectiveCamera(fov=46.0, position=(0.0, 0.0, 2.0), quaternion=(0.0, 0.0, 0.0, …"
      ]
     },
     "metadata": {},
     "output_type": "display_data"
    }
   ],
   "source": [
    "filehead = '../swc/Blue10_9-17-12_sec1_Neuron4.CNG'\n",
    "swc=N.loadtxt(filehead+'.swc')\n",
    "print(N.max(N.abs(swc[:,2:5])))\n",
    "swc[:,0] -= 1\n",
    "swc[:,6] -= 1 #because they start with 1 instead of 0\n",
    "print(N.max(N.abs(swc[:,2:5])))\n",
    "ipv.clear()\n",
    "fig = ipv.figure(width=400, height=400)\n",
    "s = ipv.scatter(swc[:, 2], swc[:, 3], swc[:, 4], marker='sphere', size=0.8)\n",
    "ipv.show()"
   ]
  },
  {
   "cell_type": "code",
   "execution_count": 4,
   "metadata": {},
   "outputs": [
    {
     "name": "stdout",
     "output_type": "stream",
     "text": [
      "(222, 7) 130.04\n"
     ]
    }
   ],
   "source": [
    "print(swc.shape,N.max(N.abs(swc[:,2:5])))"
   ]
  },
  {
   "cell_type": "code",
   "execution_count": 5,
   "metadata": {},
   "outputs": [
    {
     "name": "stdout",
     "output_type": "stream",
     "text": [
      "(64, 64, 64)\n"
     ]
    }
   ],
   "source": [
    "n=64\n",
    "rad = 40.\n",
    "x = N.linspace(-rad, rad, n)\n",
    "y = N.linspace(-rad, rad, n)\n",
    "z = N.linspace(-rad, rad, n)\n",
    "xv, yv,zv = N.meshgrid(x,y,z)\n",
    "xyz = N.array([xv,yv,zv]).swapaxes(0,-1).reshape(n**3,3)\n",
    "print(xv.shape)"
   ]
  },
  {
   "cell_type": "code",
   "execution_count": 6,
   "metadata": {},
   "outputs": [
    {
     "name": "stdout",
     "output_type": "stream",
     "text": [
      "[[-40.         -40.         -40.        ]\n",
      " [-38.73015873 -40.         -40.        ]\n",
      " [-37.46031746 -40.         -40.        ]\n",
      " ...\n",
      " [ 37.46031746  40.          40.        ]\n",
      " [ 38.73015873  40.          40.        ]\n",
      " [ 40.          40.          40.        ]]\n"
     ]
    }
   ],
   "source": [
    "print(xyz)"
   ]
  },
  {
   "cell_type": "code",
   "execution_count": 14,
   "metadata": {},
   "outputs": [],
   "source": [
    "dist2neuron = 1e30+N.zeros(n**3,dtype=N.float)\n",
    "dist2seg = N.zeros(n**3,dtype=N.float)\n",
    "for seg in N.arange(1,swc.shape[0]):\n",
    "    parent=int(swc[seg,6])\n",
    "    #print(seg, parent)\n",
    "    p1mp0 = xyz-swc[seg,2:5]\n",
    "    p2mp0 = xyz-swc[parent,2:5]\n",
    "    p2mp1= swc[seg,2:5]-swc[parent,2:5]\n",
    "    dist2p1p2 = N.sum(p2mp1**2)\n",
    "    dotty = N.dot(p1mp0,p2mp1)*N.dot(p2mp0,p2mp1)\n",
    "    w = N.where(dotty >= 0.)\n",
    "    if len(w) > 0:\n",
    "        w=w[0]\n",
    "        dist2p1 = N.sum(p1mp0[w,:]**2,axis=-1)\n",
    "        dist2p2 = N.sum(p2mp0[w,:]**2,axis=-1)\n",
    "        dist2seg[w] = N.minimum(dist2p1,dist2p2)\n",
    "    w = N.where(dotty < 0.)\n",
    "    if len(w) > 0:\n",
    "        w=w[0]\n",
    "        crossy = N.cross(p2mp1, p1mp0[w,:])\n",
    "        dist2seg[w] = N.sum(crossy**2,axis=-1)/dist2p1p2\n",
    "    \n",
    "    dist2seg = N.sqrt(dist2seg)/swc[seg,5]\n",
    "    \n",
    "    dist2neuron = N.minimum(dist2neuron,dist2seg)\n",
    "    \n",
    "dist2neuron = dist2neuron.reshape(n,n,n)"
   ]
  },
  {
   "cell_type": "code",
   "execution_count": 15,
   "metadata": {},
   "outputs": [
    {
     "name": "stdout",
     "output_type": "stream",
     "text": [
      "0.0233017271575883 10.196729699841002\n"
     ]
    },
    {
     "data": {
      "text/plain": [
       "<matplotlib.colorbar.Colorbar at 0x11de2cef0>"
      ]
     },
     "execution_count": 15,
     "metadata": {},
     "output_type": "execute_result"
    },
    {
     "data": {
      "image/png": "[encoded data removed]",
      "text/plain": [
       "<Figure size 432x288 with 2 Axes>"
      ]
     },
     "metadata": {
      "needs_background": "light"
     },
     "output_type": "display_data"
    }
   ],
   "source": [
    "print(N.min(dist2neuron),N.max(dist2neuron))\n",
    "\n",
    "M.imshow(1./(1.+dist2neuron.reshape(n,n,n)[int(n/2),:,:])); M.colorbar()"
   ]
  },
  {
   "cell_type": "code",
   "execution_count": 16,
   "metadata": {},
   "outputs": [
    {
     "data": {
      "application/vnd.jupyter.widget-view+json": {
       "model_id": "4b3b5f98829b43cfa8dc47e4a02999c5",
       "version_major": 2,
       "version_minor": 0
      },
      "text/plain": [
       "VBox(children=(VBox(children=(HBox(children=(Label(value='levels:'), FloatSlider(value=0.1, max=1.0, step=0.00…"
      ]
     },
     "metadata": {},
     "output_type": "display_data"
    }
   ],
   "source": [
    "ipv.quickvolshow(1./(dist2neuron.reshape(n,n,n)+1.))"
   ]
  },
  {
   "cell_type": "code",
   "execution_count": 11,
   "metadata": {},
   "outputs": [],
   "source": [
    "write_fvolume(filehead+'.dens',1./(dist2neuron.reshape(n,n,n)+1.))"
   ]
  },
  {
   "cell_type": "code",
   "execution_count": null,
   "metadata": {},
   "outputs": [],
   "source": []
  }
 ],
 "metadata": {
  "kernelspec": {
   "display_name": "Python 3",
   "language": "python",
   "name": "python3"
  },
  "language_info": {
   "codemirror_mode": {
    "name": "ipython",
    "version": 3
   },
   "file_extension": ".py",
   "mimetype": "text/x-python",
   "name": "python",
   "nbconvert_exporter": "python",
   "pygments_lexer": "ipython3",
   "version": "3.7.2"
  }
 },
 "nbformat": 4,
 "nbformat_minor": 2
}
